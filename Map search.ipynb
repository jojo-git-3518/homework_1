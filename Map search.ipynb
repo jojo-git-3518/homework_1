{
 "cells": [
  {
   "cell_type": "markdown",
   "metadata": {},
   "source": [
    "# MAP SEARCH"
   ]
  },
  {
   "cell_type": "code",
   "execution_count": 19,
   "metadata": {},
   "outputs": [],
   "source": [
    "BEIJING,CHANGCHUN,WUHAN,CHENGDU,GUANGZHOU,SHENZHEN,NEWYORK,SHANGHAI,BANK=\"\"\"\n",
    "BEIJING CHANGCHUN WUHAN CHENGDU GUANGZHOU SHENZHEN NEWYORK SHANGHAI BANK\n",
    "\"\"\".split()"
   ]
  },
  {
   "cell_type": "code",
   "execution_count": 16,
   "metadata": {},
   "outputs": [],
   "source": [
    "dic = {}"
   ]
  },
  {
   "cell_type": "code",
   "execution_count": 31,
   "metadata": {},
   "outputs": [],
   "source": [
    "connec = {\n",
    "    CHANGCHUN:[BEIJING],\n",
    "    BEIJING:[CHANGCHUN,WUHAN,SHANGHAI],\n",
    "    WUHAN:[CHENGDU,SHANGHAI,BEIJING,GUANGZHOU,BANK],\n",
    "    SHANGHAI:[BEIJING,WUHAN,NEWYORK],\n",
    "    NEWYORK:[SHANGHAI],\n",
    "    CHENGDU:[WUHAN],\n",
    "    GUANGZHOU:[WUHAN,BANK,SHENZHEN],\n",
    "    BANK:[GUANGZHOU,WUHAN],   \n",
    "    SHENZHEN:[GUANGZHOU]\n",
    "}"
   ]
  },
  {
   "cell_type": "code",
   "execution_count": 32,
   "metadata": {},
   "outputs": [
    {
     "data": {
      "text/plain": [
       "9"
      ]
     },
     "execution_count": 32,
     "metadata": {},
     "output_type": "execute_result"
    }
   ],
   "source": [
    "len(connec)"
   ]
  },
  {
   "cell_type": "code",
   "execution_count": 33,
   "metadata": {},
   "outputs": [],
   "source": [
    "import networkx as nx"
   ]
  },
  {
   "cell_type": "code",
   "execution_count": 34,
   "metadata": {},
   "outputs": [],
   "source": [
    "%matplotlib inline"
   ]
  },
  {
   "cell_type": "code",
   "execution_count": 35,
   "metadata": {},
   "outputs": [],
   "source": [
    "graph=connec"
   ]
  },
  {
   "cell_type": "code",
   "execution_count": 37,
   "metadata": {},
   "outputs": [],
   "source": [
    "g = nx.Graph(graph)"
   ]
  },
  {
   "cell_type": "code",
   "execution_count": 46,
   "metadata": {},
   "outputs": [
    {
     "data": {
      "image/png": "[encoded data removed]",
      "text/plain": [
       "<Figure size 432x288 with 1 Axes>"
      ]
     },
     "metadata": {},
     "output_type": "display_data"
    }
   ],
   "source": [
    "nx.draw(g)"
   ]
  },
  {
   "cell_type": "code",
   "execution_count": 204,
   "metadata": {},
   "outputs": [],
   "source": [
    "def nagivator_BFS(start,destination,connection_graph):\n",
    "    pathes =[[start]]  #最初的节点\n",
    "    seen =set()\n",
    "    while pathes:\n",
    "        path=pathes.pop(0)\n",
    "        froniter =path[-1] #pop函数弹出起点\n",
    "        print (froniter)\n",
    "        if froniter in seen:continue\n",
    "        print ('Standing at: {}'.format(froniter))\n",
    "        successors =connection_graph[froniter]\n",
    "        for s in successors:\n",
    "            if s==destination:\n",
    "                print ('\\t---- Ending at:{}'.format(s))\n",
    "                path.append(s)\n",
    "                return path\n",
    "            else:\n",
    "                pathes.append(path+[s])\n",
    "          \n",
    "        seen.add(froniter)\n",
    "        pathes=sorted(pathes,key=len)\n",
    "        #pathes=pathes+successors\n",
    "            \n",
    "                        \n",
    "\n",
    "          \n",
    "        \n",
    "           "
   ]
  },
  {
   "cell_type": "code",
   "execution_count": 199,
   "metadata": {},
   "outputs": [],
   "source": [
    "def nagivator_DFS(start,destination,connection_graph):\n",
    "    pathes =[[start]]  #最初的节点\n",
    "    seen =set()\n",
    "    while pathes:\n",
    "        path=pathes.pop(-1)\n",
    "        froniter =path[0] #pop函数弹出起点\n",
    "        print (froniter)\n",
    "        if froniter in seen:continue\n",
    "        print ('Standing at: {}'.format(froniter))\n",
    "        successors =connection_graph[froniter]\n",
    "        for s in successors:\n",
    "            if s==destination:\n",
    "                print ('\\t---- Ending at:{}'.format(s))\n",
    "                path.insert(0,s)\n",
    "                path.reverse()\n",
    "                return path\n",
    "            else:\n",
    "                pathes.append([s]+path)\n",
    "               # print('路径集合为：{}'.format(pathes))\n",
    "          \n",
    "        seen.add(froniter)\n",
    "        #pathes=sorted(pathes,key=len,reverse=True)\n",
    "        #pathes=pathes+successors"
   ]
  },
  {
   "cell_type": "code",
   "execution_count": 200,
   "metadata": {},
   "outputs": [
    {
     "name": "stdout",
     "output_type": "stream",
     "text": [
      "BEIJING\n",
      "Standing at: BEIJING\n",
      "SHANGHAI\n",
      "Standing at: SHANGHAI\n",
      "NEWYORK\n",
      "Standing at: NEWYORK\n",
      "SHANGHAI\n",
      "WUHAN\n",
      "Standing at: WUHAN\n",
      "\t---- Ending at:GUANGZHOU\n"
     ]
    },
    {
     "data": {
      "text/plain": [
       "['BEIJING', 'SHANGHAI', 'WUHAN', 'GUANGZHOU']"
      ]
     },
     "execution_count": 200,
     "metadata": {},
     "output_type": "execute_result"
    }
   ],
   "source": [
    "nagivator_DFS(BEIJING,GUANGZHOU,connec)"
   ]
  },
  {
   "cell_type": "code",
   "execution_count": 202,
   "metadata": {},
   "outputs": [],
   "source": [
    "def route_join(path):\n",
    "    print('-->'.join(path))"
   ]
  },
  {
   "cell_type": "code",
   "execution_count": 206,
   "metadata": {},
   "outputs": [
    {
     "name": "stdout",
     "output_type": "stream",
     "text": [
      "BEIJING\n",
      "Standing at: BEIJING\n",
      "CHANGCHUN\n",
      "Standing at: CHANGCHUN\n",
      "WUHAN\n",
      "Standing at: WUHAN\n",
      "\t---- Ending at:GUANGZHOU\n",
      "BEIJING-->WUHAN-->GUANGZHOU\n"
     ]
    }
   ],
   "source": [
    " route_join(nagivator_BFS(BEIJING,GUANGZHOU,connec))"
   ]
  },
  {
   "cell_type": "code",
   "execution_count": null,
   "metadata": {},
   "outputs": [],
   "source": [
    "sor"
   ]
  }
 ],
 "metadata": {
  "kernelspec": {
   "display_name": "Python 3",
   "language": "python",
   "name": "python3"
  },
  "language_info": {
   "codemirror_mode": {
    "name": "ipython",
    "version": 3
   },
   "file_extension": ".py",
   "mimetype": "text/x-python",
   "name": "python",
   "nbconvert_exporter": "python",
   "pygments_lexer": "ipython3",
   "version": "3.7.1"
  }
 },
 "nbformat": 4,
 "nbformat_minor": 2
}
